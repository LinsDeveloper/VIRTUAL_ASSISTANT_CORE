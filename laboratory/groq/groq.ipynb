{
 "cells": [
  {
   "cell_type": "code",
   "execution_count": null,
   "id": "2f141161",
   "metadata": {},
   "outputs": [],
   "source": [
    "import requests"
   ]
  },
  {
   "cell_type": "code",
   "execution_count": null,
   "id": "7daa123a",
   "metadata": {},
   "outputs": [],
   "source": [
    "API_KEY = \"sua-api-key-aqui\""
   ]
  },
  {
   "cell_type": "code",
   "execution_count": null,
   "id": "e79ccc60",
   "metadata": {},
   "outputs": [],
   "source": [
    "GROQ_URL = \"https://api.groq.com/openai/v1/chat/completions\""
   ]
  },
  {
   "cell_type": "code",
   "execution_count": null,
   "id": "f7438759",
   "metadata": {},
   "outputs": [],
   "source": [
    "headers = {\n",
    "    \"Authorization\": f\"Bearer {API_KEY}\",\n",
    "    \"Content-Type\": \"application/json\"\n",
    "}"
   ]
  },
  {
   "cell_type": "code",
   "execution_count": null,
   "id": "737c10bb",
   "metadata": {},
   "outputs": [],
   "source": [
    "data = {\n",
    "    \"model\": \"llama3-70b-8192\",  # Pode ser \"llama3-8b-8192\", \"mixtral-8x7b-32768\", etc.\n",
    "    \"messages\": [\n",
    "        {\"role\": \"system\", \"content\": \"Você é um assistente útil.\"},\n",
    "        {\"role\": \"user\", \"content\": \"Quem foi Albert Einstein?\"}\n",
    "    ],\n",
    "    \"temperature\": 0.7\n",
    "}"
   ]
  },
  {
   "cell_type": "code",
   "execution_count": null,
   "id": "a6bc6545",
   "metadata": {},
   "outputs": [],
   "source": [
    "response = requests.post(GROQ_URL, headers=headers, json=data)\n",
    "\n",
    "if response.status_code == 200:\n",
    "    result = response.json()\n",
    "    print(result[\"choices\"][0][\"message\"][\"content\"])\n",
    "else:\n",
    "    print(\"Erro:\", response.status_code, response.text)"
   ]
  }
 ],
 "metadata": {
  "language_info": {
   "name": "python"
  }
 },
 "nbformat": 4,
 "nbformat_minor": 5
}
