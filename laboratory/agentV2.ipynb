{
 "cells": [
  {
   "cell_type": "code",
   "execution_count": null,
   "id": "4bc2f514",
   "metadata": {},
   "outputs": [],
   "source": [
    "import os\n",
    "import requests\n",
    "from langchain.agents import initialize_agent, Tool\n",
    "from langchain.llms import Ollama"
   ]
  },
  {
   "cell_type": "code",
   "execution_count": null,
   "id": "d31cf108",
   "metadata": {},
   "outputs": [],
   "source": [
    "SPOTIFY_ACCESS_TOKEN = os.getenv(\"SPOTIFY_ACCESS_TOKEN\")\n",
    "if not SPOTIFY_ACCESS_TOKEN:\n",
    "    raise ValueError(\"Variável de ambiente SPOTIFY_ACCESS_TOKEN não definida\")"
   ]
  },
  {
   "cell_type": "code",
   "execution_count": null,
   "id": "7988ad01",
   "metadata": {},
   "outputs": [],
   "source": [
    "from models.AgentResponseModel import ResponseModel\n",
    "\n",
    "def pause_spotify_music(_input: str = \"\") -> ResponseModel:\n",
    "    \"\"\"\n",
    "    Pausa a música no Spotify.\n",
    "    \"\"\"\n",
    "    url = \"https://api.spotify.com/v1/me/player/pause\"\n",
    "    headers = {\n",
    "        \"Authorization\": f\"Bearer {SPOTIFY_ACCESS_TOKEN}\"\n",
    "    }\n",
    "\n",
    "    response = requests.put(url, headers=headers)\n",
    "\n",
    "    if response.status_code in [204, 200]:\n",
    "        return ResponseModel(success=True, response=\"Música pausada com sucesso no Spotify!\")\n",
    "    elif response.status_code == 403:\n",
    "        return ResponseModel(success=False, response=\"Não há player ativo ou permissões insuficientes.\")\n",
    "    else:\n",
    "        return ResponseModel(\n",
    "            success=False,\n",
    "            response=f\"Erro ao tentar pausar a música: {response.status_code} - {response.text}\"\n",
    "        )\n",
    "\n",
    "\n",
    "def play_spotify_music(_input: str = \"\") -> ResponseModel:\n",
    "    \"\"\"\n",
    "    Inicia a reprodução de música no Spotify.\n",
    "    \"\"\"\n",
    "    url = \"https://api.spotify.com/v1/me/player/play\"\n",
    "    headers = {\n",
    "        \"Authorization\": f\"Bearer {SPOTIFY_ACCESS_TOKEN}\"\n",
    "    }\n",
    "\n",
    "    response = requests.put(url, headers=headers)\n",
    "\n",
    "    if response.status_code in [204, 200]:\n",
    "        return ResponseModel(success=True, response=\"Música reproduzida com sucesso no Spotify!\")\n",
    "    elif response.status_code == 403:\n",
    "        return ResponseModel(success=False, response=\"Não há player ativo ou permissões insuficientes.\")\n",
    "    else:\n",
    "        return ResponseModel(\n",
    "            success=False,\n",
    "            response=f\"Erro ao tentar iniciar a música: {response.status_code} - {response.text}\"\n",
    "        )\n"
   ]
  },
  {
   "cell_type": "code",
   "execution_count": null,
   "id": "cc735b7c",
   "metadata": {},
   "outputs": [],
   "source": [
    "play_spotify_music()"
   ]
  },
  {
   "cell_type": "code",
   "execution_count": null,
   "id": "2e261002",
   "metadata": {},
   "outputs": [],
   "source": [
    "from langchain.agents import Tool\n",
    "\n",
    "tools = [\n",
    "    Tool(\n",
    "        name=\"PauseSpotifyMusic\",\n",
    "        func=pause_spotify_music,\n",
    "        description=\"Pausa a música atual no Spotify\"\n",
    "    ),\n",
    "    Tool(\n",
    "        name=\"PlaySpotifyMusic\",\n",
    "        func=play_spotify_music,\n",
    "        description=\"Inicia a reprodução da música atual no Spotify\"\n",
    "    )\n",
    "]\n"
   ]
  },
  {
   "cell_type": "code",
   "execution_count": null,
   "id": "f354f4c2",
   "metadata": {},
   "outputs": [],
   "source": [
    "llm = Ollama(model=\"llama3:70b\", temperature=0.7)"
   ]
  },
  {
   "cell_type": "code",
   "execution_count": null,
   "id": "dc9e5d95",
   "metadata": {},
   "outputs": [],
   "source": [
    "from langchain_core.output_parsers import JsonOutputParser\n",
    "parser = JsonOutputParser(pydantic_object=ResponseModel)"
   ]
  },
  {
   "cell_type": "code",
   "execution_count": null,
   "id": "4b2cd33e",
   "metadata": {},
   "outputs": [],
   "source": [
    "from langchain.prompts import PromptTemplate\n",
    "\n",
    "def build_main_prompt_agent(instruction_parser: JsonOutputParser):\n",
    "    prompt_template = PromptTemplate(\n",
    "        template=\"\"\" \n",
    "            Você é um assistente que controla música no Spotify: \\n\n",
    "            \n",
    "            Responda sempre no formato JSON:\\n\n",
    "            {format_instructions}\n",
    "            \n",
    "            Em relação a resposta:\n",
    "            \n",
    "            - Certifique-se de manter o formato JSON corretamente de acordo com a instrução.\n",
    "            - Responda apenas o JSON, e nenhum texto a mais.\n",
    "            - A resposta deve ser **apenas o JSON puro**, sem introduções, explicações ou formatações adicionais.\n",
    "            \n",
    "            entrada do usuário:\n",
    "            {input}\n",
    "            \"\"\",\n",
    "        input_variables=[\"input\"],\n",
    "        partial_variables={\n",
    "            \"format_instructions\": instruction_parser.get_format_instructions()\n",
    "        }\n",
    "    )\n",
    "\n",
    "    return prompt_template"
   ]
  },
  {
   "cell_type": "code",
   "execution_count": null,
   "id": "42dba8f2",
   "metadata": {},
   "outputs": [],
   "source": [
    "prompt_template = build_main_prompt_agent(parser)"
   ]
  },
  {
   "cell_type": "code",
   "execution_count": null,
   "id": "3494bf3f",
   "metadata": {},
   "outputs": [],
   "source": [
    "from langchain.agents import initialize_agent\n",
    "\n",
    "agent = initialize_agent(\n",
    "    tools=tools,\n",
    "    llm=llm,\n",
    "    agent=\"zero-shot-react-description\",\n",
    "    verbose=True,\n",
    "    handle_parsing_errors=True,\n",
    "    max_iterations=1,\n",
    "    return_intermediate_steps=True\n",
    ")\n",
    "\n",
    "result = agent.invoke({\"input\": \"Play a música no Spotify\"})\n",
    "\n",
    "\n",
    "output_final = result[\"output\"]\n",
    "intermediate_steps = result[\"intermediate_steps\"]\n",
    "\n",
    "first_observation = intermediate_steps[0][1]\n",
    "\n"
   ]
  },
  {
   "cell_type": "code",
   "execution_count": null,
   "id": "c1d73a4b",
   "metadata": {},
   "outputs": [],
   "source": [
    "import re\n",
    "\n",
    "def format_json_output(response: str, parser: any) -> str:\n",
    "    match = re.search(r\"{.*}\", response, re.DOTALL)\n",
    "    json_str = match.group(0)\n",
    "    persed_response = parser.parse(json_str)\n",
    "    return persed_response\n"
   ]
  },
  {
   "cell_type": "code",
   "execution_count": null,
   "id": "408a34cd",
   "metadata": {},
   "outputs": [],
   "source": [
    "from models.AgentResponseModel import ResponseModel\n",
    "\n",
    "parsed_response = ResponseModel.model_validate(first_observation)\n"
   ]
  },
  {
   "cell_type": "code",
   "execution_count": null,
   "id": "494a5d91",
   "metadata": {},
   "outputs": [],
   "source": [
    "print(parsed_response.response)"
   ]
  },
  {
   "cell_type": "code",
   "execution_count": 5,
   "id": "406ad26f",
   "metadata": {},
   "outputs": [
    {
     "name": "stdout",
     "output_type": "stream",
     "text": [
      "\n",
      "\n",
      "\u001b[1m> Entering new AgentExecutor chain...\u001b[0m\n",
      "\u001b[32;1m\u001b[1;3mA música é uma boa escolha! \n",
      "\n",
      "Thought: Vou usar a função `search_song` para encontrar a música no Spotify, pois o nome da música e do artista estão presentes.\n",
      "Action: search_song\n",
      "Action Input: 20 e Poucos Anos Fábio Jr\u001b[0m\n",
      "Observation: \u001b[38;5;200m\u001b[1;3m🎵 Tocando agora: 'Poucos Anos' por Fábio Jr.\u001b[0m\n",
      "Thought:\u001b[32;1m\u001b[1;3m\u001b[0m\n",
      "\n",
      "\u001b[1m> Finished chain.\u001b[0m\n",
      "🎵 Tocando agora: 'Poucos Anos' por Fábio Jr.\n"
     ]
    }
   ],
   "source": [
    "from agents.main.main_agent import AgentMain\n",
    "\n",
    "if __name__ == \"__main__\":\n",
    "    agent = AgentMain()\n",
    "\n",
    "    user_input = \"Busque a música: 20 e Poucos Anos do Fábio Jr\"\n",
    "    response = agent.run(user_input)\n",
    "    print(response)\n"
   ]
  },
  {
   "cell_type": "code",
   "execution_count": null,
   "id": "a373a628",
   "metadata": {},
   "outputs": [],
   "source": [
    "from agents.main.main_agent import AgentMain\n",
    "\n",
    "\n",
    "if __name__ == \"__main__\":\n",
    "    agente_principal = AgentMain()\n",
    "\n",
    "    comando_teste = \"Pause a música\"\n",
    "\n",
    "    resposta = agente_principal.run(comando_teste)\n",
    "\n",
    "    print(\"Resposta do agente principal:\")\n",
    "    print(resposta)\n"
   ]
  },
  {
   "cell_type": "code",
   "execution_count": 2,
   "id": "ddd389d4",
   "metadata": {},
   "outputs": [
    {
     "name": "stdout",
     "output_type": "stream",
     "text": [
      "\n",
      "\n",
      "\u001b[1m> Entering new AgentExecutor chain...\u001b[0m\n",
      "\u001b[32;1m\u001b[1;3mLet's get started!\n",
      "\n",
      "Thought: To play the fan favorite song of Eduardo Costa, we need to search for the song that matches his name and the song title. Since we don't have more information about the song, let's use the `search_song` action.\n",
      "\n",
      "Action: search_song\n",
      "Action Input: \"Eduardo Costa\"\u001b[0m\n",
      "Observation: \u001b[38;5;200m\u001b[1;3mA música '(não há música especificada)' de 'Eduardo Costa' não foi encontrada no Spotify.\u001b[0m\n",
      "Thought:\u001b[32;1m\u001b[1;3m\u001b[0m\n",
      "\n",
      "\u001b[1m> Finished chain.\u001b[0m\n",
      "Comando: Coloque a música fã número 1, eduardo costa\n",
      "Resposta: {'input': 'Coloque a música fã número 1, eduardo costa', 'output': 'Agent stopped due to iteration limit or time limit.', 'intermediate_steps': [(AgentAction(tool='search_song', tool_input='Eduardo Costa', log='Let\\'s get started!\\n\\nThought: To play the fan favorite song of Eduardo Costa, we need to search for the song that matches his name and the song title. Since we don\\'t have more information about the song, let\\'s use the `search_song` action.\\n\\nAction: search_song\\nAction Input: \"Eduardo Costa\"'), \"A música '(não há música especificada)' de 'Eduardo Costa' não foi encontrada no Spotify.\")]}\n"
     ]
    }
   ],
   "source": [
    "from agents.spotify.spotify_agent import AgentSpotify\n",
    "\n",
    "if __name__ == \"__main__\":\n",
    "    agent = AgentSpotify()\n",
    "\n",
    "    comandos = [\n",
    "        \"Coloque a música fã número 1, eduardo costa\",\n",
    "    ]\n",
    "\n",
    "    for c in comandos:\n",
    "        resposta = agent.run(c)\n",
    "        print(\"Comando:\", c)\n",
    "        print(\"Resposta:\", resposta)\n"
   ]
  },
  {
   "cell_type": "code",
   "execution_count": null,
   "id": "c592a842",
   "metadata": {},
   "outputs": [
    {
     "data": {
      "text/plain": [
       "ResponseModel(success=False, response=\"A música 'I Don't Wanna Be Alone' de 'Elliot James' não foi encontrada no Spotify.\")"
      ]
     },
     "execution_count": 5,
     "metadata": {},
     "output_type": "execute_result"
    }
   ],
   "source": [
    "from agents.spotify.resources.resource_play_music import play_specific_song\n",
    "\n",
    "\n",
    "play_specific_song(\"Elliot James\", \"Am\")"
   ]
  },
  {
   "cell_type": "code",
   "execution_count": null,
   "id": "50a5b21b",
   "metadata": {},
   "outputs": [],
   "source": [
    "from agents.spotify.resources.resource_play_music import play_pause_music\n",
    "\n",
    "\n",
    "play_pause_music(\"play\")"
   ]
  }
 ],
 "metadata": {
  "kernelspec": {
   "display_name": ".venv",
   "language": "python",
   "name": "python3"
  },
  "language_info": {
   "codemirror_mode": {
    "name": "ipython",
    "version": 3
   },
   "file_extension": ".py",
   "mimetype": "text/x-python",
   "name": "python",
   "nbconvert_exporter": "python",
   "pygments_lexer": "ipython3",
   "version": "3.11.0"
  }
 },
 "nbformat": 4,
 "nbformat_minor": 5
}
