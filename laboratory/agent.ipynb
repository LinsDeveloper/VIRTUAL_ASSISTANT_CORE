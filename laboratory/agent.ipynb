{
 "cells": [
  {
   "cell_type": "code",
   "execution_count": 2,
   "metadata": {},
   "outputs": [],
   "source": [
    "from langchain.llms import Ollama\n",
    "from langchain.agents import initialize_agent, Tool, AgentType"
   ]
  },
  {
   "cell_type": "code",
   "execution_count": null,
   "metadata": {},
   "outputs": [
    {
     "name": "stderr",
     "output_type": "stream",
     "text": [
      "C:\\Users\\pedro\\AppData\\Local\\Temp\\ipykernel_23148\\2236961341.py:2: LangChainDeprecationWarning: The class `Ollama` was deprecated in LangChain 0.3.1 and will be removed in 1.0.0. An updated version of the class exists in the :class:`~langchain-ollama package and should be used instead. To use it run `pip install -U :class:`~langchain-ollama` and import as `from :class:`~langchain_ollama import OllamaLLM``.\n",
      "  llm = Ollama(model=\"llama3:8b\")  # Se você tiver o modelo LLaMA 3, coloque \"llama3\" aqui.\n"
     ]
    }
   ],
   "source": [
    "\n",
    "llm = Ollama(model=\"llama3:8b\")\n",
    "\n",
    "def responder_pergunta(pergunta: str) -> str:\n",
    "    return llm(pergunta)\n",
    "\n",
    "tools = [\n",
    "    Tool(\n",
    "        name=\"Respondedor de Perguntas\",\n",
    "        description=\"Responde perguntas gerais sobre o mundo.\",\n",
    "        func=responder_pergunta\n",
    "    )\n",
    "]"
   ]
  },
  {
   "cell_type": "code",
   "execution_count": 5,
   "metadata": {},
   "outputs": [
    {
     "name": "stdout",
     "output_type": "stream",
     "text": [
      "\n",
      "\n",
      "\u001b[1m> Entering new AgentExecutor chain...\u001b[0m\n",
      "\u001b[32;1m\u001b[1;3mA pergunta fácil!\n",
      "\n",
      "Thought: Vou utilizar o Respondedor de Perguntas para responder essa pergunta.\n",
      "\n",
      "Action: Pergunta\n",
      "Action Input: Qual é a capital da França?\u001b[0m\n",
      "Observation: Pergunta is not a valid tool, try one of [Respondedor de Perguntas].\n",
      "Thought:\u001b[32;1m\u001b[1;3mThought: Hmm, it seems I made a mistake! The action \"Pergunta\" is not a valid option.\n",
      "\n",
      "Action: Respondedor de Perguntas\n",
      "Action Input: Qual é a capital da França?\u001b[0m\n",
      "Observation: \u001b[36;1m\u001b[1;3mA capital da França é Paris!\u001b[0m\n",
      "Thought:\u001b[32;1m\u001b[1;3mHere's my response:\n",
      "\n",
      "Question: Qual é a capital da França?\n",
      "\n",
      "Thought: Ah, a easy one!\n",
      "\n",
      "Thought: Vou utilizar o Respondedor de Perguntas para responder essa pergunta.\n",
      "\n",
      "Action: Respondedor de Perguntas\n",
      "Action Input: Qual é a capital da França?\u001b[0m\n",
      "Observation: \u001b[36;1m\u001b[1;3mA capital da França é Paris!\u001b[0m\n",
      "Thought:\u001b[32;1m\u001b[1;3m\u001b[0m\n",
      "\n",
      "\u001b[1m> Finished chain.\u001b[0m\n",
      "Agent stopped due to iteration limit or time limit.\n"
     ]
    }
   ],
   "source": [
    "# Inicializa o agente\n",
    "agente = initialize_agent(ferramentas, llm, agent_type=AgentType.ZERO_SHOT_REACT_DESCRIPTION, verbose=True, max_iterations=3)\n",
    "\n",
    "# Faz uma pergunta ao agente\n",
    "resposta = agente.run(\"Qual é a capital da França?\")\n",
    "print(resposta)"
   ]
  }
 ],
 "metadata": {
  "kernelspec": {
   "display_name": ".venv",
   "language": "python",
   "name": "python3"
  },
  "language_info": {
   "codemirror_mode": {
    "name": "ipython",
    "version": 3
   },
   "file_extension": ".py",
   "mimetype": "text/x-python",
   "name": "python",
   "nbconvert_exporter": "python",
   "pygments_lexer": "ipython3",
   "version": "3.11.9"
  }
 },
 "nbformat": 4,
 "nbformat_minor": 2
}
