{
 "cells": [
  {
   "cell_type": "code",
   "execution_count": null,
   "metadata": {},
   "outputs": [],
   "source": [
    "from langchain_community.llms import Ollama\n",
    "from langchain.agents import Tool, AgentExecutor, create_openai_tools_agent\n",
    "from langchain.agents import initialize_agent, AgentType\n",
    "import spotipy\n",
    "from spotipy.oauth2 import SpotifyOAuth\n",
    "\n",
    "\n"
   ]
  },
  {
   "cell_type": "code",
   "execution_count": null,
   "metadata": {},
   "outputs": [],
   "source": [
    "# Configuração do Spotify\n",
    "sp = spotipy.Spotify(auth_manager=SpotifyOAuth(\n",
    "    client_id=\"SEU_CLIENT_ID\",\n",
    "    client_secret=\"SEU_CLIENT_SECRET\",\n",
    "    redirect_uri=\"http://localhost:8888/callback\",\n",
    "    scope=\"user-read-playback-state,user-modify-playback-state\"\n",
    "))\n",
    "\n",
    "# Ferramentas do Subagente de Música\n",
    "def play_track(track_name):\n",
    "    results = sp.search(q=track_name, type='track', limit=1)\n",
    "    if results['tracks']['items']:\n",
    "        track_uri = results['tracks']['items'][0]['uri']\n",
    "        sp.start_playback(uris=[track_uri])\n",
    "        return f\"Tocando agora: {track_name}\"\n",
    "    return \"Música não encontrada.\"\n",
    "\n",
    "def pause_music():\n",
    "    sp.pause_playback()\n",
    "    return \"Reprodução pausada.\"\n",
    "\n",
    "# Criar o subagente de música\n",
    "music_tools = [\n",
    "    Tool(\n",
    "        name=\"PlayTrack\",\n",
    "        func=play_track,\n",
    "        description=\"Toca uma música específica no Spotify pelo nome.\"\n",
    "    ),\n",
    "    Tool(\n",
    "        name=\"PauseMusic\",\n",
    "        func=pause_music,\n",
    "        description=\"Pausa a música que está tocando no Spotify.\"\n",
    "    )\n",
    "]\n",
    "\n",
    "# Conectando o Ollama ao subagente de música\n",
    "llm_music = Ollama(model=\"llama2\", temperature=0)\n",
    "music_agent = initialize_agent(music_tools, llm_music, agent=AgentType.ZERO_SHOT_REACT_DESCRIPTION)\n",
    "\n",
    "# Subagente de Música como Ferramenta do Agente Principal\n",
    "def music_agent_tool(command):\n",
    "    return music_agent.run(command)\n",
    "\n",
    "# Definindo o subagente como ferramenta do agente principal\n",
    "tools = [\n",
    "    Tool(\n",
    "        name=\"MusicAgent\",\n",
    "        func=music_agent_tool,\n",
    "        description=\"Use esta ferramenta para comandos relacionados a músicas, como tocar ou pausar músicas no Spotify.\"\n",
    "    )\n",
    "]\n",
    "\n",
    "# Agente Principal com o Ollama\n",
    "llm_main = Ollama(model=\"llama2\", temperature=0)\n",
    "main_agent = create_openai_tools_agent(llm_main, tools)\n",
    "agent_executor = AgentExecutor(agent=main_agent, tools=tools)\n",
    "\n",
    "# Exemplo de uso do agente principal\n",
    "response = agent_executor.run(\"Toque a música 'Bohemian Rhapsody' no Spotify.\")\n",
    "print(response)"
   ]
  },
  {
   "cell_type": "code",
   "execution_count": null,
   "metadata": {},
   "outputs": [],
   "source": [
    "audio.export(\"voz_jarvis_br_final.wav\", format=\"wav\")"
   ]
  }
 ],
 "metadata": {
  "kernelspec": {
   "display_name": ".venv",
   "language": "python",
   "name": "python3"
  },
  "language_info": {
   "name": "python",
   "version": "3.11.9"
  }
 },
 "nbformat": 4,
 "nbformat_minor": 2
}
