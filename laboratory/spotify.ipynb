{
 "cells": [
  {
   "cell_type": "code",
   "execution_count": 1,
   "metadata": {},
   "outputs": [
    {
     "name": "stdout",
     "output_type": "stream",
     "text": [
      "Token de acesso: BQC0HnDPP9aMDnMbUpdWQmBd35paV3z1hTHjDQVxq8Y9Xbo1NBnly-5htzLlRZB364SrzN_4gR9w2Aq6bveF-DLzwWCXK_Va5g5a2V-vBJ6pwGv_x_4\n"
     ]
    }
   ],
   "source": [
    "import requests\n",
    "import base64\n",
    "\n",
    "client_id = '7e5b7f9df7fc403cb0bb2f2daececb2a'\n",
    "client_secret = '51fe58d518be4ba6bc4eaae7fc0d98af'\n",
    "\n",
    "# Codifica o client_id e o client_secret em Base64\n",
    "credentials = f\"{client_id}:{client_secret}\"\n",
    "encoded_credentials = base64.b64encode(credentials.encode()).decode()\n",
    "\n",
    "# Configura os parâmetros de autenticação\n",
    "auth_url = 'https://accounts.spotify.com/api/token'\n",
    "headers = {\n",
    "    'Authorization': f'Basic {encoded_credentials}'\n",
    "}\n",
    "data = {\n",
    "    'grant_type': 'client_credentials'\n",
    "}\n",
    "\n",
    "# Faz a requisição POST para obter o token\n",
    "response = requests.post(auth_url, headers=headers, data=data)\n",
    "\n",
    "# Verifica se a requisição foi bem-sucedida\n",
    "if response.status_code == 200:\n",
    "    token = response.json().get('access_token')\n",
    "    print(f'Token de acesso: {token}')\n",
    "else:\n",
    "    print(f'Erro: {response.status_code}, {response.text}')\n"
   ]
  },
  {
   "cell_type": "code",
   "execution_count": 2,
   "metadata": {},
   "outputs": [
    {
     "data": {
      "text/plain": [
       "'BQC0HnDPP9aMDnMbUpdWQmBd35paV3z1hTHjDQVxq8Y9Xbo1NBnly-5htzLlRZB364SrzN_4gR9w2Aq6bveF-DLzwWCXK_Va5g5a2V-vBJ6pwGv_x_4'"
      ]
     },
     "execution_count": 2,
     "metadata": {},
     "output_type": "execute_result"
    }
   ],
   "source": [
    "token"
   ]
  },
  {
   "cell_type": "code",
   "execution_count": 3,
   "metadata": {},
   "outputs": [
    {
     "name": "stdout",
     "output_type": "stream",
     "text": [
      "Erro: 403, {\n",
      "  \"error\" : {\n",
      "    \"status\" : 403,\n",
      "    \"message\" : \"Player command failed: Premium required\",\n",
      "    \"reason\" : \"PREMIUM_REQUIRED\"\n",
      "  }\n",
      "}\n"
     ]
    }
   ],
   "source": [
    "import requests\n",
    "\n",
    "\n",
    "# Defina a música que deseja tocar (Spotify URI)\n",
    "track_uri = 'spotify:track:31Us4W4huvOwVuSdfUWseC?si=481d792d1bd249eb'  # Substitua pelo URI da música\n",
    "\n",
    "# URL da API para iniciar a reprodução\n",
    "playback_url = 'https://api.spotify.com/v1/me/player/play'\n",
    "\n",
    "# Cabeçalhos para autenticação\n",
    "headers = {\n",
    "    'Authorization': f'Bearer {token}',\n",
    "    'Content-Type': 'application/json'\n",
    "}\n",
    "\n",
    "# Corpo da requisição, com a URI da música\n",
    "data = {\n",
    "    'uris': [track_uri]\n",
    "}\n",
    "\n",
    "# Fazendo a requisição PUT para iniciar a reprodução\n",
    "response = requests.put(playback_url, headers=headers, json=data)\n",
    "\n",
    "# Verifica se a requisição foi bem-sucedida\n",
    "if response.status_code == 204:\n",
    "    print('Música tocando com sucesso!')\n",
    "else:\n",
    "    print(f'Erro: {response.status_code}, {response.text}')\n"
   ]
  }
 ],
 "metadata": {
  "kernelspec": {
   "display_name": ".venv",
   "language": "python",
   "name": "python3"
  },
  "language_info": {
   "codemirror_mode": {
    "name": "ipython",
    "version": 3
   },
   "file_extension": ".py",
   "mimetype": "text/x-python",
   "name": "python",
   "nbconvert_exporter": "python",
   "pygments_lexer": "ipython3",
   "version": "3.11.9"
  }
 },
 "nbformat": 4,
 "nbformat_minor": 2
}
