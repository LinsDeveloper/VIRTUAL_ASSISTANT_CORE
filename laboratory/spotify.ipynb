{
 "cells": [
  {
   "cell_type": "code",
   "execution_count": null,
   "metadata": {},
   "outputs": [],
   "source": [
    "import requests\n",
    "import base64"
   ]
  },
  {
   "cell_type": "code",
   "execution_count": null,
   "metadata": {},
   "outputs": [],
   "source": [
    "client_id = '7e5b7f9df7fc403cb0bb2f2daececb2a'\n",
    "client_secret = '5c40be6905884180883e166c03b4df8c'"
   ]
  },
  {
   "cell_type": "code",
   "execution_count": 3,
   "metadata": {},
   "outputs": [],
   "source": [
    "credentials = f\"{client_id}:{client_secret}\"\n",
    "encoded_credentials = base64.b64encode(credentials.encode()).decode()"
   ]
  },
  {
   "cell_type": "code",
   "execution_count": 4,
   "metadata": {},
   "outputs": [],
   "source": [
    "response = requests.post(\n",
    "    \"https://accounts.spotify.com/api/token\",\n",
    "    headers={\n",
    "        \"Authorization\": f\"Basic {encoded_credentials}\",\n",
    "        \"Content-Type\": \"application/x-www-form-urlencoded\"\n",
    "    },\n",
    "    data={\"grant_type\": \"client_credentials\"}\n",
    ")"
   ]
  },
  {
   "cell_type": "code",
   "execution_count": 5,
   "metadata": {},
   "outputs": [],
   "source": [
    "access_token = response.json()['access_token']"
   ]
  },
  {
   "cell_type": "code",
   "execution_count": 6,
   "metadata": {},
   "outputs": [],
   "source": [
    "headers = {\"Authorization\": f\"Bearer {access_token}\"}"
   ]
  },
  {
   "cell_type": "code",
   "execution_count": 7,
   "metadata": {},
   "outputs": [],
   "source": [
    "res = requests.get(\"https://api.spotify.com/v1/search?q=arctic+monkeys&type=artist\", headers=headers)"
   ]
  },
  {
   "cell_type": "code",
   "execution_count": null,
   "metadata": {},
   "outputs": [],
   "source": [
    "query = 'Shape of You'"
   ]
  },
  {
   "cell_type": "code",
   "execution_count": null,
   "metadata": {},
   "outputs": [],
   "source": [
    "params = {\n",
    "    \"q\": query,\n",
    "    \"type\": \"track\",\n",
    "    \"limit\": 1\n",
    "}"
   ]
  },
  {
   "cell_type": "code",
   "execution_count": null,
   "metadata": {},
   "outputs": [],
   "source": [
    "response = requests.get(\"https://api.spotify.com/v1/search\", headers=headers, params=params)\n",
    "track = response.json()['tracks']['items'][0]\n",
    "\n",
    "print(\"Nome:\", track['name'])\n",
    "print(\"Artista:\", track['artists'][0]['name'])\n",
    "print(\"URI:\", track['uri'])"
   ]
  },
  {
   "cell_type": "code",
   "execution_count": null,
   "metadata": {},
   "outputs": [],
   "source": [
    "data = {\n",
    "    \"uris\": [track['uri']],\n",
    "}"
   ]
  },
  {
   "cell_type": "code",
   "execution_count": 8,
   "metadata": {},
   "outputs": [
    {
     "name": "stdout",
     "output_type": "stream",
     "text": [
      "{'artists': {'href': 'https://api.spotify.com/v1/search?offset=0&limit=20&query=arctic%20monkeys&type=artist', 'limit': 20, 'next': None, 'offset': 0, 'previous': None, 'total': 7, 'items': [{'external_urls': {'spotify': 'https://open.spotify.com/artist/7Ln80lUS6He07XvHI8qqHH'}, 'followers': {'href': None, 'total': 29827098}, 'genres': ['indie', 'garage rock'], 'href': 'https://api.spotify.com/v1/artists/7Ln80lUS6He07XvHI8qqHH', 'id': '7Ln80lUS6He07XvHI8qqHH', 'images': [{'url': 'https://i.scdn.co/image/ab6761610000e5eb7da39dea0a72f581535fb11f', 'height': 640, 'width': 640}, {'url': 'https://i.scdn.co/image/ab676161000051747da39dea0a72f581535fb11f', 'height': 320, 'width': 320}, {'url': 'https://i.scdn.co/image/ab6761610000f1787da39dea0a72f581535fb11f', 'height': 160, 'width': 160}], 'name': 'Arctic Monkeys', 'popularity': 88, 'type': 'artist', 'uri': 'spotify:artist:7Ln80lUS6He07XvHI8qqHH'}, {'external_urls': {'spotify': 'https://open.spotify.com/artist/77SW9BnxLY8rJ0RciFqkHh'}, 'followers': {'href': None, 'total': 20128459}, 'genres': [], 'href': 'https://api.spotify.com/v1/artists/77SW9BnxLY8rJ0RciFqkHh', 'id': '77SW9BnxLY8rJ0RciFqkHh', 'images': [{'url': 'https://i.scdn.co/image/ab6761610000e5ebdf0b5ac84376a0a4b2166816', 'height': 640, 'width': 640}, {'url': 'https://i.scdn.co/image/ab67616100005174df0b5ac84376a0a4b2166816', 'height': 320, 'width': 320}, {'url': 'https://i.scdn.co/image/ab6761610000f178df0b5ac84376a0a4b2166816', 'height': 160, 'width': 160}], 'name': 'The Neighbourhood', 'popularity': 85, 'type': 'artist', 'uri': 'spotify:artist:77SW9BnxLY8rJ0RciFqkHh'}, {'external_urls': {'spotify': 'https://open.spotify.com/artist/2hv9oBOxgWSFnZJPW6UL58'}, 'followers': {'href': None, 'total': 366}, 'genres': [], 'href': 'https://api.spotify.com/v1/artists/2hv9oBOxgWSFnZJPW6UL58', 'id': '2hv9oBOxgWSFnZJPW6UL58', 'images': [{'url': 'https://i.scdn.co/image/ab67616d0000b2734ce69bc80497562fb53d7447', 'height': 640, 'width': 640}, {'url': 'https://i.scdn.co/image/ab67616d00001e024ce69bc80497562fb53d7447', 'height': 300, 'width': 300}, {'url': 'https://i.scdn.co/image/ab67616d000048514ce69bc80497562fb53d7447', 'height': 64, 'width': 64}], 'name': 'Arctic Monkeys Tribute Band', 'popularity': 2, 'type': 'artist', 'uri': 'spotify:artist:2hv9oBOxgWSFnZJPW6UL58'}, {'external_urls': {'spotify': 'https://open.spotify.com/artist/7cYEt1pqMgXJdq00hAwVpT'}, 'followers': {'href': None, 'total': 9503206}, 'genres': [], 'href': 'https://api.spotify.com/v1/artists/7cYEt1pqMgXJdq00hAwVpT', 'id': '7cYEt1pqMgXJdq00hAwVpT', 'images': [{'url': 'https://i.scdn.co/image/ab6761610000e5eb5d10a5bb5f78cd7819cbfad7', 'height': 640, 'width': 640}, {'url': 'https://i.scdn.co/image/ab676161000051745d10a5bb5f78cd7819cbfad7', 'height': 320, 'width': 320}, {'url': 'https://i.scdn.co/image/ab6761610000f1785d10a5bb5f78cd7819cbfad7', 'height': 160, 'width': 160}], 'name': 'Chase Atlantic', 'popularity': 83, 'type': 'artist', 'uri': 'spotify:artist:7cYEt1pqMgXJdq00hAwVpT'}, {'external_urls': {'spotify': 'https://open.spotify.com/artist/58weT4m0eMXcHFTJlSAgsz'}, 'followers': {'href': None, 'total': 8}, 'genres': [], 'href': 'https://api.spotify.com/v1/artists/58weT4m0eMXcHFTJlSAgsz', 'id': '58weT4m0eMXcHFTJlSAgsz', 'images': [{'url': 'https://i.scdn.co/image/ab67616d0000b2734c5431d7b9ca71899082e1b9', 'height': 640, 'width': 640}, {'url': 'https://i.scdn.co/image/ab67616d00001e024c5431d7b9ca71899082e1b9', 'height': 300, 'width': 300}, {'url': 'https://i.scdn.co/image/ab67616d000048514c5431d7b9ca71899082e1b9', 'height': 64, 'width': 64}], 'name': 'Anthem Arctic Monkeys', 'popularity': 0, 'type': 'artist', 'uri': 'spotify:artist:58weT4m0eMXcHFTJlSAgsz'}, {'external_urls': {'spotify': 'https://open.spotify.com/artist/0epOFNiUfyON9EYx7Tpr6V'}, 'followers': {'href': None, 'total': 6229291}, 'genres': ['garage rock', 'indie rock', 'alternative rock'], 'href': 'https://api.spotify.com/v1/artists/0epOFNiUfyON9EYx7Tpr6V', 'id': '0epOFNiUfyON9EYx7Tpr6V', 'images': [{'url': 'https://i.scdn.co/image/ab6761610000e5ebc3b137793230f4043feb0089', 'height': 640, 'width': 640}, {'url': 'https://i.scdn.co/image/ab67616100005174c3b137793230f4043feb0089', 'height': 320, 'width': 320}, {'url': 'https://i.scdn.co/image/ab6761610000f178c3b137793230f4043feb0089', 'height': 160, 'width': 160}], 'name': 'The Strokes', 'popularity': 78, 'type': 'artist', 'uri': 'spotify:artist:0epOFNiUfyON9EYx7Tpr6V'}, {'external_urls': {'spotify': 'https://open.spotify.com/artist/1ctkBmvz80MGyi72Ix055S'}, 'followers': {'href': None, 'total': 991668}, 'genres': [], 'href': 'https://api.spotify.com/v1/artists/1ctkBmvz80MGyi72Ix055S', 'id': '1ctkBmvz80MGyi72Ix055S', 'images': [{'url': 'https://i.scdn.co/image/ab67616d0000b273672951d44a35cb08092f2c1f', 'height': 640, 'width': 640}, {'url': 'https://i.scdn.co/image/ab67616d00001e02672951d44a35cb08092f2c1f', 'height': 300, 'width': 300}, {'url': 'https://i.scdn.co/image/ab67616d00004851672951d44a35cb08092f2c1f', 'height': 64, 'width': 64}], 'name': 'Alex Turner', 'popularity': 59, 'type': 'artist', 'uri': 'spotify:artist:1ctkBmvz80MGyi72Ix055S'}]}}\n"
     ]
    }
   ],
   "source": [
    "print(res.json())"
   ]
  }
 ],
 "metadata": {
  "kernelspec": {
   "display_name": ".venv",
   "language": "python",
   "name": "python3"
  },
  "language_info": {
   "codemirror_mode": {
    "name": "ipython",
    "version": 3
   },
   "file_extension": ".py",
   "mimetype": "text/x-python",
   "name": "python",
   "nbconvert_exporter": "python",
   "pygments_lexer": "ipython3",
   "version": "3.11.9"
  }
 },
 "nbformat": 4,
 "nbformat_minor": 2
}
