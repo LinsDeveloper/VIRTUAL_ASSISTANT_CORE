{
 "cells": [
  {
   "cell_type": "code",
   "execution_count": 1,
   "id": "822a1276",
   "metadata": {},
   "outputs": [],
   "source": [
    "import os\n",
    "import pickle\n",
    "import pathlib\n",
    "\n",
    "from google_auth_oauthlib.flow import InstalledAppFlow\n",
    "from googleapiclient.discovery import build"
   ]
  },
  {
   "cell_type": "code",
   "execution_count": 2,
   "id": "bc2f286f",
   "metadata": {},
   "outputs": [],
   "source": [
    "SCOPES = ['https://www.googleapis.com/auth/gmail.readonly']\n",
    "\n",
    "CREDENTIALS = 'credentials.json'\n",
    "TOKEN_PICKLE = 'token.pickle'"
   ]
  },
  {
   "cell_type": "code",
   "execution_count": null,
   "id": "38d469bb",
   "metadata": {},
   "outputs": [],
   "source": [
    "def authenticate():\n",
    "    creds = None\n",
    "\n",
    "    if os.path.exists(TOKEN_PICKLE):\n",
    "        with open(TOKEN_PICKLE, 'rb') as token:\n",
    "            creds = pickle.load(token)\n",
    "\n",
    "    if not creds or not creds.valid:\n",
    "        flow = InstalledAppFlow.from_client_secrets_file(CREDENTIALS, SCOPES)\n",
    "        creds = flow.run_local_server(port=0)\n",
    "        with open(TOKEN_PICKLE, 'wb') as token:\n",
    "            pickle.dump(creds, token)\n",
    "\n",
    "    return creds"
   ]
  },
  {
   "cell_type": "code",
   "execution_count": 4,
   "id": "c6893492",
   "metadata": {},
   "outputs": [
    {
     "name": "stdout",
     "output_type": "stream",
     "text": [
      "Please visit this URL to authorize this application: https://accounts.google.com/o/oauth2/auth?response_type=code&client_id=925885517791-pq003gtuakn8qccscq3hi0ievo6nc4s3.apps.googleusercontent.com&redirect_uri=http%3A%2F%2Flocalhost%3A58490%2F&scope=https%3A%2F%2Fwww.googleapis.com%2Fauth%2Fgmail.readonly&state=MK4mEk9t2SoaiUYFmjNJJXQ0OC596N&access_type=offline\n"
     ]
    }
   ],
   "source": [
    "creds = authenticate()\n",
    "service = build('gmail', 'v1', credentials=creds)"
   ]
  },
  {
   "cell_type": "code",
   "execution_count": null,
   "id": "3dc7ebd4",
   "metadata": {},
   "outputs": [],
   "source": [
    "results = service.users().messages().list(userId='me', maxResults=5).execute()\n",
    "messages = results.get('messages', [])"
   ]
  },
  {
   "cell_type": "code",
   "execution_count": 8,
   "id": "f4a1421d",
   "metadata": {},
   "outputs": [
    {
     "name": "stdout",
     "output_type": "stream",
     "text": [
      "From: Duolingo <hello@duolingo.com>\n",
      "Subject: ⏳ Pedro, paciência não é o meu forte.\n",
      "Snippet: Hora de você sabe o quê! ‌ ‌ ‌ ‌ ‌ ‌ ‌ ‌ ‌ ‌ ‌ ‌ ‌ ‌ ‌ ‌ ‌ ‌ ‌ ‌ ‌ ‌ ‌ ‌ ‌ ‌ ‌ ‌ ‌ ‌ ‌ ‌ ‌ ‌ ‌ ‌ ‌ ‌ ‌ ‌ ‌ ‌ ‌ ‌ ‌ ‌ ‌ ‌ ‌ ‌ ‌ ‌ ‌ ‌ ‌ ‌ ‌ ‌ ‌ ‌ ‌ ‌ ‌ ‌ ‌ ‌ ‌ ‌ ‌ ‌ ‌ ‌ ‌ ‌ ‌ ‌ ‌ ‌ ‌ ‌ ‌ ‌ ‌ ‌ ‌ ‌ ‌ ‌\n",
      "------\n",
      "From: Netflix <info@account.netflix.com>\n",
      "Subject: Um novo aparelho está usando sua conta\n",
      "Snippet: Verifique quem está usando sua conta Netflix (pedrolins42@gmail.com). ͏ ͏ ͏ ͏ ͏ ͏ ͏ ͏ ͏ ͏ ͏ ͏ ͏ ͏ ͏ ͏ ͏ ͏ ͏ ͏ ͏ ͏ ͏ ͏ ͏ ͏ ͏ ͏ ͏ ͏ ͏ ͏ ͏ ͏ ͏ ͏ ͏ ͏ ͏ ͏ ͏ ͏ ͏ ͏ ͏ ͏ ͏ ͏ ͏ ͏ ͏ ͏ ͏ ͏ ͏ ͏ ͏ ͏ ͏ ͏ ͏ ͏ ͏ ͏ ͏ ͏\n",
      "------\n",
      "From: GitHub <noreply@github.com>\n",
      "Subject: [GitHub] Please verify your device\n",
      "Snippet: Hey LinsDeveloper! A sign in attempt requires further verification because we did not recognize your device. To complete the sign in, enter the verification code on the unrecognized device. Device:\n",
      "------\n",
      "From: Udemy <no-reply@e.udemymail.com>\n",
      "Subject: Login da Udemy: aqui está o código de verificação de 6 dígitos que você solicitou\n",
      "Snippet: Olá, Pedro Henrique Valverde, Use o código abaixo para fazer login na sua conta da Udemy. 483705 Este código expira em 15 minutos. Não solicitou o código? Fale conosco. Entregue por Udemy 600 Harrison\n",
      "------\n",
      "From: Alertas de vaga do LinkedIn <jobalerts-noreply@linkedin.com>\n",
      "Subject: “Engenheiro de software”: ION Sistemas - Desenvolvedor(a) Full Stack Pleno / SR e mais\n",
      "Snippet: Desenvolvedor(a) Full Stack Pleno / SR em ION Sistemas: ION SISTEMAS - Conectando pessoas, soluções e… ͏ ͏ ͏ ͏ ͏ ͏ ͏ ͏ ͏ ͏ ͏ ͏ ͏ ͏ ͏ ͏ ͏ ͏ ͏ ͏ ͏ ͏ ͏ ͏ ͏ ͏ ͏ ͏ ͏ ͏ ͏ ͏ ͏ ͏ ͏ ͏ ͏ ͏ ͏ ͏ ͏ ͏ ͏ ͏ ͏ ͏ ͏ ͏ ͏\n",
      "------\n"
     ]
    }
   ],
   "source": [
    "for msg in messages:\n",
    "    msg_id = msg['id']\n",
    "    message = service.users().messages().get(userId='me', id=msg_id, format='metadata', metadataHeaders=['From', 'Subject']).execute()\n",
    "\n",
    "    headers = message.get('payload', {}).get('headers', [])\n",
    "    subject = sender = 'Não encontrado'\n",
    "    for header in headers:\n",
    "        if header['name'] == 'Subject':\n",
    "            subject = header['value']\n",
    "        elif header['name'] == 'From':\n",
    "            sender = header['value']\n",
    "\n",
    "    snippet = message.get('snippet', '')\n",
    "\n",
    "    print(f'From: {sender}')\n",
    "    print(f'Subject: {subject}')\n",
    "    print(f'Snippet: {snippet}')\n",
    "    print('------')\n"
   ]
  }
 ],
 "metadata": {
  "kernelspec": {
   "display_name": ".venv",
   "language": "python",
   "name": "python3"
  },
  "language_info": {
   "codemirror_mode": {
    "name": "ipython",
    "version": 3
   },
   "file_extension": ".py",
   "mimetype": "text/x-python",
   "name": "python",
   "nbconvert_exporter": "python",
   "pygments_lexer": "ipython3",
   "version": "3.11.0"
  }
 },
 "nbformat": 4,
 "nbformat_minor": 5
}
