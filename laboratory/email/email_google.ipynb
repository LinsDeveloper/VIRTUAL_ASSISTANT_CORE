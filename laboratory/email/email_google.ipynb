{
 "cells": [
  {
   "cell_type": "code",
   "execution_count": 1,
   "id": "822a1276",
   "metadata": {},
   "outputs": [],
   "source": [
    "import os\n",
    "import pickle\n",
    "import pathlib\n",
    "\n",
    "from google_auth_oauthlib.flow import InstalledAppFlow\n",
    "from googleapiclient.discovery import build"
   ]
  },
  {
   "cell_type": "code",
   "execution_count": 2,
   "id": "bc2f286f",
   "metadata": {},
   "outputs": [],
   "source": [
    "SCOPES = ['https://www.googleapis.com/auth/gmail.readonly']\n",
    "\n",
    "CREDENTIALS = 'credentials.json'\n",
    "TOKEN_PICKLE = 'token.pickle'"
   ]
  },
  {
   "cell_type": "code",
   "execution_count": 3,
   "id": "38d469bb",
   "metadata": {},
   "outputs": [],
   "source": [
    "def authenticate():\n",
    "    creds = None\n",
    "\n",
    "    if os.path.exists(TOKEN_PICKLE):\n",
    "        with open(TOKEN_PICKLE, 'rb') as token:\n",
    "            creds = pickle.load(token)\n",
    "\n",
    "    if not creds or not creds.valid:\n",
    "        flow = InstalledAppFlow.from_client_secrets_file(CREDENTIALS, SCOPES)\n",
    "        creds = flow.run_local_server(port=0)\n",
    "        with open(TOKEN_PICKLE, 'wb') as token:\n",
    "            pickle.dump(creds, token)\n",
    "\n",
    "    return creds"
   ]
  },
  {
   "cell_type": "code",
   "execution_count": 4,
   "id": "c6893492",
   "metadata": {},
   "outputs": [
    {
     "name": "stdout",
     "output_type": "stream",
     "text": [
      "Please visit this URL to authorize this application: https://accounts.google.com/o/oauth2/auth?response_type=code&client_id=925885517791-pq003gtuakn8qccscq3hi0ievo6nc4s3.apps.googleusercontent.com&redirect_uri=http%3A%2F%2Flocalhost%3A57386%2F&scope=https%3A%2F%2Fwww.googleapis.com%2Fauth%2Fgmail.readonly&state=Q2hBEHaQyoe6otu5ksBqtf0Kz9PMbo&access_type=offline\n"
     ]
    }
   ],
   "source": [
    "creds = authenticate()\n",
    "service = build('gmail', 'v1', credentials=creds)"
   ]
  },
  {
   "cell_type": "code",
   "execution_count": 6,
   "id": "f7ad3081",
   "metadata": {},
   "outputs": [
    {
     "name": "stdout",
     "output_type": "stream",
     "text": [
      "Access Token: ya29.a0AW4XtxhHh0ptu9xoTp4PH5t-sKTuWMIHS14cv6uP0Xk_uITHbkM1-mZfc-bNpE8kkUGnVER1lO4vXDTCkvizNflLxa6hsRxBC1AiIibq3ydsEbXnenmjCuemR9p3UGVksswyanK7n_bH_H7BfEeYp9HEfXfhmH_A72Q55CC0aCgYKAUMSARYSFQHGX2Mix2ua2g3ME1bBYkDDyuV7BA0175\n"
     ]
    }
   ],
   "source": [
    "access_token = creds.token\n",
    "print(\"Access Token:\", access_token)"
   ]
  },
  {
   "cell_type": "code",
   "execution_count": 7,
   "id": "e61219ec",
   "metadata": {},
   "outputs": [],
   "source": [
    "from google.oauth2.credentials import Credentials\n",
    "creds = Credentials(token=access_token)"
   ]
  },
  {
   "cell_type": "code",
   "execution_count": 8,
   "id": "15881459",
   "metadata": {},
   "outputs": [],
   "source": [
    "service = build('gmail', 'v1', credentials=creds)"
   ]
  },
  {
   "cell_type": "code",
   "execution_count": 9,
   "id": "3dc7ebd4",
   "metadata": {},
   "outputs": [],
   "source": [
    "results = service.users().messages().list(userId='me', maxResults=5).execute()\n",
    "messages = results.get('messages', [])"
   ]
  },
  {
   "cell_type": "code",
   "execution_count": 10,
   "id": "f4a1421d",
   "metadata": {},
   "outputs": [
    {
     "name": "stdout",
     "output_type": "stream",
     "text": [
      "From: Google <no-reply@accounts.google.com>\n",
      "Subject: Alerta de segurança\n",
      "Snippet: O Orion recebeu acesso à sua Conta do Google pedrolins42@gmail.com Se você não concedeu acesso, verifique essa atividade e proteja sua conta. Verificar atividade Você também pode ver as atividades de\n",
      "------\n",
      "From: Spotify <no-reply@alerts.spotify.com>\n",
      "Subject: 414943 – Seu código de login do Spotify\n",
      "Snippet: 414943 – Seu código de login do Spotify Olá, Insira este código para continuar entrando sem uma senha: 414943 Esse código é válido por 20 minutos e só pode ser usado uma vez. Ao inseri-lo, você também\n",
      "------\n",
      "From: Spotify <no-reply@alerts.spotify.com>\n",
      "Subject: 263137 – Seu código de login do Spotify\n",
      "Snippet: 263137 – Seu código de login do Spotify Olá, Insira este código para continuar entrando sem uma senha: 263137 Esse código é válido por 20 minutos e só pode ser usado uma vez. Ao inseri-lo, você também\n",
      "------\n",
      "From: Nubank <todomundo@nubank.com.br>\n",
      "Subject: A fatura do seu cartão Nubank está fechada\n",
      "Snippet: Você pode pagar usando a sua conta do Nubank ou gerando um boleto diretamente no app. Sua fatura foi fechada Olá, Pedro Sua fatura já está fechada, vence no dia 16 de junho e você pode conferir todos\n",
      "------\n",
      "From: Spotify <no-reply@spotify.com>\n",
      "Subject: Os Paralamas Do Sucesso ao vivo: recomendação personalizada de show perto de você\n",
      "Snippet: Veja quem está vindo pra sua cidade… cabeçalho Próximos eventos perto de você Imagem do artista 1 Os Paralamas Do Sucesso Sat, Nov 29 Clube Associação De Taubaté, Taubaté comprar ingressos Todos os\n",
      "------\n"
     ]
    }
   ],
   "source": [
    "for msg in messages:\n",
    "    msg_id = msg['id']\n",
    "    message = service.users().messages().get(userId='me', id=msg_id, format='metadata', metadataHeaders=['From', 'Subject']).execute()\n",
    "\n",
    "    headers = message.get('payload', {}).get('headers', [])\n",
    "    subject = sender = 'Não encontrado'\n",
    "    for header in headers:\n",
    "        if header['name'] == 'Subject':\n",
    "            subject = header['value']\n",
    "        elif header['name'] == 'From':\n",
    "            sender = header['value']\n",
    "\n",
    "    snippet = message.get('snippet', '')\n",
    "\n",
    "    print(f'From: {sender}')\n",
    "    print(f'Subject: {subject}')\n",
    "    print(f'Snippet: {snippet}')\n",
    "    print('------')\n"
   ]
  }
 ],
 "metadata": {
  "kernelspec": {
   "display_name": ".venv",
   "language": "python",
   "name": "python3"
  },
  "language_info": {
   "codemirror_mode": {
    "name": "ipython",
    "version": 3
   },
   "file_extension": ".py",
   "mimetype": "text/x-python",
   "name": "python",
   "nbconvert_exporter": "python",
   "pygments_lexer": "ipython3",
   "version": "3.11.0"
  }
 },
 "nbformat": 4,
 "nbformat_minor": 5
}
