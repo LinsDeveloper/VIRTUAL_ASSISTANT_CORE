{
 "cells": [
  {
   "cell_type": "code",
   "execution_count": null,
   "id": "e564b598",
   "metadata": {},
   "outputs": [],
   "source": [
    "import spotipy\n",
    "from spotipy.oauth2 import SpotifyOAuth\n",
    "import time\n",
    "from urllib.parse import urlencode\n",
    "import webbrowser"
   ]
  },
  {
   "cell_type": "code",
   "execution_count": null,
   "id": "3007b6c1",
   "metadata": {},
   "outputs": [],
   "source": [
    "CLIENT_ID = '7e5b7f9df7fc403cb0bb2f2daececb2a'\n",
    "CLIENT_SECRET = '5c40be6905884180883e166c03b4df8c'\n",
    "REDIRECT_URI = 'http://localhost:8888/callback'"
   ]
  },
  {
   "cell_type": "code",
   "execution_count": null,
   "id": "e674eb0e",
   "metadata": {},
   "outputs": [],
   "source": [
    "SCOPE = 'user-read-playback-state user-modify-playback-state user-read-currently-playing'"
   ]
  },
  {
   "cell_type": "code",
   "execution_count": null,
   "id": "870501dd",
   "metadata": {},
   "outputs": [],
   "source": [
    "params = urlencode({\n",
    "    'client_id': CLIENT_ID,\n",
    "    'response_type': 'code',\n",
    "    'redirect_uri': REDIRECT_URI,\n",
    "    'scope': SCOPE\n",
    "})"
   ]
  },
  {
   "cell_type": "code",
   "execution_count": null,
   "id": "1956e109",
   "metadata": {},
   "outputs": [],
   "source": [
    "auth_url = f\"https://accounts.spotify.com/authorize?{params}\"\n",
    "webbrowser.open(auth_url)\n",
    "print(\"Abra este link no navegador:\", auth_url)"
   ]
  },
  {
   "cell_type": "code",
   "execution_count": null,
   "id": "74ca5bc8",
   "metadata": {},
   "outputs": [],
   "source": [
    "CODE = \"AQBx7NT8gMVZz2pxXS8dD6CkuAcuC6G_mXoVOpNe743YK2cG5IXBST9mJxPMKNtQrajRLOliJwLodgu7eb6j88KxY6Rq8k7X2LkHEYrMapHpTL74Z8MGBL0vQ4e3rSzXzfxyCAGOY0LVKkx6RPQam7S4nRex89vQwqHDEZa85AGVmwtYZYHU6ttFvaYq4HYluwOS9a40qKYkXP1R8K2g23Y8bB8n_6FnXpYIpprdPlGg9gnwsauI2GpiN0fwCYYSFoek-6FFt_XDQS9ojpoRqnk6jf6L\""
   ]
  },
  {
   "cell_type": "code",
   "execution_count": null,
   "id": "c699d50b",
   "metadata": {},
   "outputs": [],
   "source": [
    "import requests\n",
    "import base64"
   ]
  },
  {
   "cell_type": "code",
   "execution_count": null,
   "id": "fed3d57a",
   "metadata": {},
   "outputs": [],
   "source": [
    "auth_header = base64.b64encode(f\"{CLIENT_ID}:{CLIENT_SECRET}\".encode()).decode()\n",
    "\n",
    "url = \"https://accounts.spotify.com/api/token\"\n",
    "headers = {\n",
    "    \"Authorization\": f\"Basic {auth_header}\",\n",
    "    \"Content-Type\": \"application/x-www-form-urlencoded\"\n",
    "}"
   ]
  },
  {
   "cell_type": "code",
   "execution_count": null,
   "id": "c8091cef",
   "metadata": {},
   "outputs": [],
   "source": [
    "data = {\n",
    "    \"grant_type\": \"authorization_code\",\n",
    "    \"code\": CODE,\n",
    "    \"redirect_uri\": REDIRECT_URI\n",
    "}"
   ]
  },
  {
   "cell_type": "code",
   "execution_count": null,
   "id": "efb19c91",
   "metadata": {},
   "outputs": [],
   "source": [
    "response = requests.post(url, headers=headers, data=data)\n",
    "if response.status_code == 200:\n",
    "    tokens = response.json()\n",
    "    print(\"Access Token:\", tokens['access_token'])\n",
    "    print(\"Refresh Token:\", tokens['refresh_token'])\n",
    "else:\n",
    "    print(f\"Erro {response.status_code}: {response.text}\")"
   ]
  },
  {
   "cell_type": "code",
   "execution_count": null,
   "id": "1933de43",
   "metadata": {},
   "outputs": [],
   "source": [
    "access_token = tokens['access_token']"
   ]
  },
  {
   "cell_type": "code",
   "execution_count": null,
   "id": "888a1aaa",
   "metadata": {},
   "outputs": [],
   "source": [
    "url_busca = \"https://api.spotify.com/v1/search\"\n",
    "headers = {\n",
    "    \"Authorization\": f\"Bearer {access_token}\"\n",
    "}"
   ]
  },
  {
   "cell_type": "code",
   "execution_count": null,
   "id": "d384e2a0",
   "metadata": {},
   "outputs": [],
   "source": [
    "nome_musica = \"fã número 1\"\n",
    "\n",
    "params = {\n",
    "    \"q\": nome_musica,\n",
    "    \"type\": \"track\",\n",
    "    \"limit\": 1\n",
    "}"
   ]
  },
  {
   "cell_type": "code",
   "execution_count": null,
   "id": "7ab90cd3",
   "metadata": {},
   "outputs": [],
   "source": [
    "response_busca = requests.get(url_busca, headers=headers, params=params)\n",
    "resultados = response_busca.json()"
   ]
  },
  {
   "cell_type": "code",
   "execution_count": null,
   "id": "913c36d4",
   "metadata": {},
   "outputs": [],
   "source": [
    "\n",
    "if 'tracks' in resultados and resultados['tracks']['items']:\n",
    "    track = resultados['tracks']['items'][0]\n",
    "    track_uri = track['uri']\n",
    "    print(f\"Música encontrada: {track['name']} - URI: {track_uri}\")\n",
    "\n",
    "    url_play = \"https://api.spotify.com/v1/me/player/play\"\n",
    "    headers_play = {\n",
    "        \"Authorization\": f\"Bearer {access_token}\",\n",
    "        \"Content-Type\": \"application/json\"\n",
    "    }\n",
    "    data_play = {\n",
    "        \"uris\": [track_uri]\n",
    "    }\n",
    "    response_play = requests.put(url_play, headers=headers_play, json=data_play)\n",
    "\n",
    "    if response_play.status_code == 204:\n",
    "        print(\"Música iniciada com sucesso!\")\n",
    "    else:\n",
    "        print(f\"Erro ao iniciar música: {response_play.status_code} - {response_play.text}\")\n",
    "else:\n",
    "    print(\"Nenhuma música encontrada com esse nome.\")"
   ]
  },
  {
   "cell_type": "code",
   "execution_count": null,
   "id": "1042da42",
   "metadata": {},
   "outputs": [],
   "source": [
    "sp = spotipy.Spotify(auth_manager=SpotifyOAuth(\n",
    "    client_id=CLIENT_ID,\n",
    "    client_secret=CLIENT_SECRET,\n",
    "    redirect_uri=REDIRECT_URI,\n",
    "    scope=SCOPE,\n",
    "    open_browser=True \n",
    "))"
   ]
  },
  {
   "cell_type": "code",
   "execution_count": null,
   "id": "07639548",
   "metadata": {},
   "outputs": [],
   "source": [
    "devices = sp.devices()"
   ]
  },
  {
   "cell_type": "code",
   "execution_count": null,
   "id": "cc146383",
   "metadata": {},
   "outputs": [],
   "source": [
    "if not devices['devices']:\n",
    "    print(\"⚠ Nenhum dispositivo ativo. Abra o app do Spotify e toque algo manualmente.\")\n",
    "else:\n",
    "    device = devices['devices'][0]\n",
    "    device_id = device['id']\n",
    "    print(f\"🎧 Dispositivo ativo: {device['name']}\")\n",
    "\n",
    "    sp.pause_playback(device_id=device_id)\n",
    "    print(\"⏸ Música pausada.\")\n",
    "    time.sleep(2)\n",
    "\n",
    "    sp.start_playback(device_id=device_id)\n",
    "    print(\"▶ Música tocando.\")"
   ]
  },
  {
   "cell_type": "code",
   "execution_count": null,
   "id": "83f2ba8a",
   "metadata": {},
   "outputs": [],
   "source": [
    "from agents.spotify.resources.resource_play_music import play_pause_music\n",
    "\n",
    "\n",
    "play_pause_music(\"pause\")"
   ]
  }
 ],
 "metadata": {
  "kernelspec": {
   "display_name": ".venv",
   "language": "python",
   "name": "python3"
  },
  "language_info": {
   "codemirror_mode": {
    "name": "ipython",
    "version": 3
   },
   "file_extension": ".py",
   "mimetype": "text/x-python",
   "name": "python",
   "nbconvert_exporter": "python",
   "pygments_lexer": "ipython3",
   "version": "3.11.0"
  }
 },
 "nbformat": 4,
 "nbformat_minor": 5
}
